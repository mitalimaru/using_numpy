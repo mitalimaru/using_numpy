{
 "cells": [
  {
   "cell_type": "markdown",
   "metadata": {},
   "source": [
    "# GBA 465 Lab 6 A - Skill-Building with NumPy (Starter)"
   ]
  },
  {
   "cell_type": "markdown",
   "metadata": {},
   "source": [
    "## Part A - List of Lists\n",
    "\n",
    "Let's start by working with data in the form of a list of lists.\n",
    "\n",
    "**Action:** Execute the following code block:"
   ]
  },
  {
   "cell_type": "code",
   "execution_count": 1,
   "metadata": {},
   "outputs": [],
   "source": [
    "# Stranger Things episodes per season, length in minutes:\n",
    "\n",
    "season_1_lengths = [ 48, 55, 52, 50, 53, 47, 42, 55 ]\n",
    "season_2_lengths = [ 48, 56, 51, 46, 58, 51, 45, 47 ]\n",
    "season_3_lengths = [ 50, 50, 49, 52, 52, 59, 55, 77 ]"
   ]
  },
  {
   "cell_type": "markdown",
   "metadata": {},
   "source": [
    "**Actions:**\n",
    "- Use `season_1_lengths`, `season_2_lengths`, and `season_3_lengths` to create a list of lists.\n",
    "- Store your list of lists in a variable named `episode_lengths`."
   ]
  },
  {
   "cell_type": "code",
   "execution_count": 2,
   "metadata": {},
   "outputs": [],
   "source": [
    "# Your implementation:\n",
    "\n",
    "episode_lengths = [season_1_lengths, season_2_lengths, season_3_lengths]"
   ]
  },
  {
   "cell_type": "markdown",
   "metadata": {},
   "source": [
    "**Action:** Use indexing to print the length of Season 1, Episode 6 from the list of lists `episode_lengths`."
   ]
  },
  {
   "cell_type": "code",
   "execution_count": 3,
   "metadata": {},
   "outputs": [
    {
     "name": "stdout",
     "output_type": "stream",
     "text": [
      "Length of Season 1, Episode 6: 47\n"
     ]
    }
   ],
   "source": [
    "# Your implementation:\n",
    "\n",
    "print(\"Length of Season 1, Episode 6:\", episode_lengths[0][5])"
   ]
  },
  {
   "cell_type": "markdown",
   "metadata": {},
   "source": [
    "**Action:** Use indexing to print the length of Season 2, Episode 3 from the list of lists `episode_lengths`."
   ]
  },
  {
   "cell_type": "code",
   "execution_count": 4,
   "metadata": {},
   "outputs": [
    {
     "name": "stdout",
     "output_type": "stream",
     "text": [
      "Length of Season 2, Episode 3: 51\n"
     ]
    }
   ],
   "source": [
    "# Your implementation:\n",
    "\n",
    "print(\"Length of Season 2, Episode 3:\", episode_lengths[1][2])"
   ]
  },
  {
   "cell_type": "markdown",
   "metadata": {},
   "source": [
    "## Part B - Using NumPy\n",
    "\n",
    "**Action:** Import the NumPy packaging and use a prefix of `np`."
   ]
  },
  {
   "cell_type": "code",
   "execution_count": 5,
   "metadata": {},
   "outputs": [],
   "source": [
    "# Your implementation:\n",
    "\n",
    "import numpy as np"
   ]
  },
  {
   "cell_type": "markdown",
   "metadata": {},
   "source": [
    "**Action:** Create a NumPy array by passing the data from `episode_lengths` to the `np.array` function."
   ]
  },
  {
   "cell_type": "code",
   "execution_count": 6,
   "metadata": {},
   "outputs": [],
   "source": [
    "# Your implementation:\n",
    "\n",
    "numpy_array = np.array(episode_lengths)"
   ]
  },
  {
   "cell_type": "markdown",
   "metadata": {},
   "source": [
    "**Action:** Calculate and print the total of **all** the values in the NumPy array by using the array's `sum` method."
   ]
  },
  {
   "cell_type": "code",
   "execution_count": 7,
   "metadata": {},
   "outputs": [
    {
     "name": "stdout",
     "output_type": "stream",
     "text": [
      "Total length of all episodes: 1248\n"
     ]
    }
   ],
   "source": [
    "# Your implementation:\n",
    "\n",
    "print(\"Total length of all episodes:\", numpy_array.sum())"
   ]
  },
  {
   "cell_type": "markdown",
   "metadata": {},
   "source": [
    "## Part C - Creating and Inspecting a 1D NumPy Array\n",
    "\n",
    "**Action:** Create a 1-dimensional (1D) array with the data from Stranger Things, Season 1 episode lengths (in minutes).\n",
    "\n",
    "You may reference these values from `season_1_lengths`."
   ]
  },
  {
   "cell_type": "code",
   "execution_count": 8,
   "metadata": {},
   "outputs": [],
   "source": [
    "# Your implementation:\n",
    "\n",
    "season_1_array = np.array(season_1_lengths)"
   ]
  },
  {
   "cell_type": "markdown",
   "metadata": {},
   "source": [
    "**Action:** Print the NumPy array object."
   ]
  },
  {
   "cell_type": "code",
   "execution_count": 9,
   "metadata": {},
   "outputs": [
    {
     "name": "stdout",
     "output_type": "stream",
     "text": [
      "Array: [48 55 52 50 53 47 42 55]\n"
     ]
    }
   ],
   "source": [
    "# Your implementation:\n",
    "\n",
    "print(\"Array:\", season_1_array)"
   ]
  },
  {
   "cell_type": "markdown",
   "metadata": {},
   "source": [
    "**Action:** Print the **type** of the object."
   ]
  },
  {
   "cell_type": "code",
   "execution_count": 10,
   "metadata": {},
   "outputs": [
    {
     "name": "stdout",
     "output_type": "stream",
     "text": [
      "Type: <class 'numpy.ndarray'>\n"
     ]
    }
   ],
   "source": [
    "# Your implementation:\n",
    "\n",
    "print(\"Type:\", type(season_1_array))"
   ]
  },
  {
   "cell_type": "markdown",
   "metadata": {},
   "source": [
    "**Action:** Print the **length** of the array."
   ]
  },
  {
   "cell_type": "code",
   "execution_count": 11,
   "metadata": {},
   "outputs": [
    {
     "name": "stdout",
     "output_type": "stream",
     "text": [
      "Length: 8\n"
     ]
    }
   ],
   "source": [
    "# Your implementation:\n",
    "\n",
    "print(\"Length:\", len(season_1_array))"
   ]
  },
  {
   "cell_type": "markdown",
   "metadata": {},
   "source": [
    "**Action:** Print the size of the array (the total number of elements)."
   ]
  },
  {
   "cell_type": "code",
   "execution_count": 12,
   "metadata": {},
   "outputs": [
    {
     "name": "stdout",
     "output_type": "stream",
     "text": [
      "Size: 8\n"
     ]
    }
   ],
   "source": [
    "# Your implementation:\n",
    "\n",
    "print(\"Size:\", season_1_array.size)\n"
   ]
  },
  {
   "cell_type": "markdown",
   "metadata": {},
   "source": [
    "**Action:** Print  the **shape** of the array (the description of the data's dimensions)."
   ]
  },
  {
   "cell_type": "code",
   "execution_count": 13,
   "metadata": {},
   "outputs": [
    {
     "name": "stdout",
     "output_type": "stream",
     "text": [
      "Shape: (8,)\n"
     ]
    }
   ],
   "source": [
    "# Your implementation:\n",
    "\n",
    "print(\"Shape:\", season_1_array.shape)"
   ]
  },
  {
   "cell_type": "markdown",
   "metadata": {},
   "source": [
    "## Part D - Creation and Inspection a 2D NumPy Array\n",
    "\n",
    "**Actions:**\n",
    "\n",
    "- Create a 2-dimensional (2D) array with the data from Stranger Things, Season 1, 2, and 3 episode lengths (in minutes).\n",
    "- For the argument, you can use either:\n",
    "    - `episode_lengths`, or\n",
    "    - `season_1_lengths` with `season_2_lengths` and `season_2_lengths`.\n",
    "- Store the NumPy array object in a variable called `my_2d_array`."
   ]
  },
  {
   "cell_type": "code",
   "execution_count": 14,
   "metadata": {},
   "outputs": [],
   "source": [
    "# Your implementation:\n",
    "\n",
    "my_2d_array = np.array(episode_lengths)"
   ]
  },
  {
   "cell_type": "markdown",
   "metadata": {},
   "source": [
    "**Action:** Inspect the 2D NumPy array object:\n",
    "1. Print the object itself\n",
    "2. Print the type of the object\n",
    "3. Print the length of the object\n",
    "4. Print the size of the object\n",
    "5. Print the shape of the object"
   ]
  },
  {
   "cell_type": "code",
   "execution_count": 15,
   "metadata": {},
   "outputs": [
    {
     "name": "stdout",
     "output_type": "stream",
     "text": [
      "Array:\n",
      "[[48 55 52 50 53 47 42 55]\n",
      " [48 56 51 46 58 51 45 47]\n",
      " [50 50 49 52 52 59 55 77]]\n",
      "Type: <class 'numpy.ndarray'>\n",
      "Length: 3\n",
      "Size: 24\n",
      "Shape: (3, 8)\n"
     ]
    }
   ],
   "source": [
    "# Your implementation:\n",
    "\n",
    "print(\"Array:\")\n",
    "print(my_2d_array)\n",
    "print(\"Type:\", type(my_2d_array))\n",
    "print(\"Length:\", len(my_2d_array))\n",
    "print(\"Size:\", my_2d_array.size)\n",
    "print(\"Shape:\", my_2d_array.shape)"
   ]
  },
  {
   "cell_type": "markdown",
   "metadata": {},
   "source": [
    "## Part E - Re-Creating a 2D NumPy Array with a Data Type Constraint\n",
    "\n",
    "**Actions:**\n",
    "- Re-create the 2D NumPy array object again - but this time, use the optional parameter of `np.array` to constrain the values to an **integer**.\n",
    "- Store the NumPy array object in a variable called `my_2d_array`."
   ]
  },
  {
   "cell_type": "code",
   "execution_count": 16,
   "metadata": {},
   "outputs": [],
   "source": [
    "# Your implementation:\n",
    "\n",
    "my_2d_array = np.array(episode_lengths, dtype=int)\n"
   ]
  },
  {
   "cell_type": "markdown",
   "metadata": {},
   "source": [
    "**Action:** As an inspection, print the data type of the object."
   ]
  },
  {
   "cell_type": "code",
   "execution_count": 17,
   "metadata": {},
   "outputs": [
    {
     "name": "stdout",
     "output_type": "stream",
     "text": [
      "Data type: int64\n"
     ]
    }
   ],
   "source": [
    "# Your implementation:\n",
    "\n",
    "print(\"Data type:\", my_2d_array.dtype)"
   ]
  },
  {
   "cell_type": "markdown",
   "metadata": {},
   "source": [
    "## Part F - Converting One Data Type to Another\n",
    "\n",
    "**Action:** Use the `astype` method to convert values in `my_2d_array` to floats and print the results."
   ]
  },
  {
   "cell_type": "code",
   "execution_count": 18,
   "metadata": {
    "scrolled": true
   },
   "outputs": [
    {
     "name": "stdout",
     "output_type": "stream",
     "text": [
      "Converted to float:\n",
      " [[48. 55. 52. 50. 53. 47. 42. 55.]\n",
      " [48. 56. 51. 46. 58. 51. 45. 47.]\n",
      " [50. 50. 49. 52. 52. 59. 55. 77.]]\n"
     ]
    }
   ],
   "source": [
    "# Your implementation:\n",
    "float_array = my_2d_array.astype(float)\n",
    "print(\"Converted to float:\\n\", float_array)\n"
   ]
  },
  {
   "cell_type": "markdown",
   "metadata": {},
   "source": [
    "**Action:** Do the same conversion as above, but this time copy the array to a new variable.  Print the new array.\n",
    "\n",
    "You can use either the copy method (of the array object) or the copy function (of the NumPy package)."
   ]
  },
  {
   "cell_type": "code",
   "execution_count": 19,
   "metadata": {
    "scrolled": true
   },
   "outputs": [
    {
     "name": "stdout",
     "output_type": "stream",
     "text": [
      "Copied array:\n",
      " [[48 55 52 50 53 47 42 55]\n",
      " [48 56 51 46 58 51 45 47]\n",
      " [50 50 49 52 52 59 55 77]]\n"
     ]
    }
   ],
   "source": [
    "# Your implementation\n",
    "new_array = my_2d_array.copy()\n",
    "print(\"Copied array:\\n\", new_array)\n"
   ]
  },
  {
   "cell_type": "markdown",
   "metadata": {},
   "source": [
    "**Action:** Convert the values in `my_2d_array` to strings and print."
   ]
  },
  {
   "cell_type": "code",
   "execution_count": 20,
   "metadata": {},
   "outputs": [
    {
     "name": "stdout",
     "output_type": "stream",
     "text": [
      "Converted to string:\n",
      " [['48' '55' '52' '50' '53' '47' '42' '55']\n",
      " ['48' '56' '51' '46' '58' '51' '45' '47']\n",
      " ['50' '50' '49' '52' '52' '59' '55' '77']]\n"
     ]
    }
   ],
   "source": [
    "# Your implementation:\n",
    "str_array = my_2d_array.astype(str)\n",
    "print(\"Converted to string:\\n\", str_array)\n"
   ]
  },
  {
   "cell_type": "markdown",
   "metadata": {},
   "source": [
    "**Action:** Convert the values in `my_2d_array` to Booleans and print."
   ]
  },
  {
   "cell_type": "code",
   "execution_count": 21,
   "metadata": {},
   "outputs": [
    {
     "name": "stdout",
     "output_type": "stream",
     "text": [
      "Converted to boolean:\n",
      " [[ True  True  True  True  True  True  True  True]\n",
      " [ True  True  True  True  True  True  True  True]\n",
      " [ True  True  True  True  True  True  True  True]]\n"
     ]
    }
   ],
   "source": [
    "# Your implementation:\n",
    "bool_array = my_2d_array.astype(bool)\n",
    "print(\"Converted to boolean:\\n\", bool_array)"
   ]
  },
  {
   "cell_type": "markdown",
   "metadata": {},
   "source": [
    "## Part G - Aggregate Methods"
   ]
  },
  {
   "cell_type": "markdown",
   "metadata": {},
   "source": [
    "### Sum\n",
    "**Action:** Determine the sum of all the items in `my_2d_array`."
   ]
  },
  {
   "cell_type": "code",
   "execution_count": 22,
   "metadata": {},
   "outputs": [
    {
     "name": "stdout",
     "output_type": "stream",
     "text": [
      "Sum of all items: 1248\n"
     ]
    }
   ],
   "source": [
    "# Your implementation:\n",
    "print(\"Sum of all items:\", my_2d_array.sum())\n"
   ]
  },
  {
   "cell_type": "markdown",
   "metadata": {},
   "source": [
    "**Action:** Calculate the sum for each column in `my_2d_array`."
   ]
  },
  {
   "cell_type": "code",
   "execution_count": 23,
   "metadata": {},
   "outputs": [
    {
     "name": "stdout",
     "output_type": "stream",
     "text": [
      "Sum of each column: [146 161 152 148 163 157 142 179]\n"
     ]
    }
   ],
   "source": [
    "# Your implementation:\n",
    "print(\"Sum of each column:\", my_2d_array.sum(axis=0))\n"
   ]
  },
  {
   "cell_type": "markdown",
   "metadata": {},
   "source": [
    "**Action:** Calculate the sum for each row in `my_2d_array`."
   ]
  },
  {
   "cell_type": "code",
   "execution_count": 24,
   "metadata": {},
   "outputs": [
    {
     "name": "stdout",
     "output_type": "stream",
     "text": [
      "Sum of each row: [402 402 444]\n"
     ]
    }
   ],
   "source": [
    "# Your implementation:\n",
    "print(\"Sum of each row:\", my_2d_array.sum(axis=1))\n"
   ]
  },
  {
   "cell_type": "markdown",
   "metadata": {},
   "source": [
    "### Minimum\n",
    "**Action:** Determine the minimum value of all the items in `my_2d_array`."
   ]
  },
  {
   "cell_type": "code",
   "execution_count": 25,
   "metadata": {},
   "outputs": [
    {
     "name": "stdout",
     "output_type": "stream",
     "text": [
      "Minimum value of all items: 42\n"
     ]
    }
   ],
   "source": [
    "# Your implementation:\n",
    "print(\"Minimum value of all items:\", my_2d_array.min())\n"
   ]
  },
  {
   "cell_type": "markdown",
   "metadata": {},
   "source": [
    "**Action:** Calculate the minimum value for each column in `my_2d_array`."
   ]
  },
  {
   "cell_type": "code",
   "execution_count": 26,
   "metadata": {},
   "outputs": [
    {
     "name": "stdout",
     "output_type": "stream",
     "text": [
      "Minimum value of each column: [48 50 49 46 52 47 42 47]\n"
     ]
    }
   ],
   "source": [
    "# Your implementation:\n",
    "print(\"Minimum value of each column:\", my_2d_array.min(axis=0))\n"
   ]
  },
  {
   "cell_type": "markdown",
   "metadata": {},
   "source": [
    "**Action:** Calculate the minimum value for each row in `my_2d_array`."
   ]
  },
  {
   "cell_type": "code",
   "execution_count": 27,
   "metadata": {},
   "outputs": [
    {
     "name": "stdout",
     "output_type": "stream",
     "text": [
      "Minimum value of each row: [42 45 49]\n"
     ]
    }
   ],
   "source": [
    "# Your implementation:\n",
    "print(\"Minimum value of each row:\", my_2d_array.min(axis=1))\n"
   ]
  },
  {
   "cell_type": "markdown",
   "metadata": {},
   "source": [
    "### Maximum\n",
    "**Action:** Determine the maximum value of all the items in `my_2d_array`."
   ]
  },
  {
   "cell_type": "code",
   "execution_count": 28,
   "metadata": {},
   "outputs": [
    {
     "name": "stdout",
     "output_type": "stream",
     "text": [
      "Maximum value of all items: 77\n"
     ]
    }
   ],
   "source": [
    "# Your implementation:\n",
    "print(\"Maximum value of all items:\", my_2d_array.max())\n"
   ]
  },
  {
   "cell_type": "markdown",
   "metadata": {},
   "source": [
    "**Action:** Calculate the maximum value for each column in `my_2d_array`."
   ]
  },
  {
   "cell_type": "code",
   "execution_count": 29,
   "metadata": {},
   "outputs": [
    {
     "name": "stdout",
     "output_type": "stream",
     "text": [
      "Maximum value of each column: [50 56 52 52 58 59 55 77]\n"
     ]
    }
   ],
   "source": [
    "# Your implementation:\n",
    "print(\"Maximum value of each column:\", my_2d_array.max(axis=0))\n"
   ]
  },
  {
   "cell_type": "markdown",
   "metadata": {},
   "source": [
    "**Action:** Calculate the maximum value for each row in `my_2d_array`."
   ]
  },
  {
   "cell_type": "code",
   "execution_count": 30,
   "metadata": {},
   "outputs": [
    {
     "name": "stdout",
     "output_type": "stream",
     "text": [
      "Maximum value of each row: [55 58 77]\n"
     ]
    }
   ],
   "source": [
    "# Your implementation:\n",
    "print(\"Maximum value of each row:\", my_2d_array.max(axis=1))\n"
   ]
  },
  {
   "cell_type": "markdown",
   "metadata": {},
   "source": [
    "### Mean\n",
    "**Action:** Calculate the mean for all the items in `my_2d_array`."
   ]
  },
  {
   "cell_type": "code",
   "execution_count": 31,
   "metadata": {},
   "outputs": [
    {
     "name": "stdout",
     "output_type": "stream",
     "text": [
      "Mean of all items: 52.0\n"
     ]
    }
   ],
   "source": [
    "# Your implementation:\n",
    "print(\"Mean of all items:\", my_2d_array.mean())\n"
   ]
  },
  {
   "cell_type": "markdown",
   "metadata": {},
   "source": [
    "**Action:** Calculate the mean for each column in `my_2d_array`."
   ]
  },
  {
   "cell_type": "code",
   "execution_count": 32,
   "metadata": {},
   "outputs": [
    {
     "name": "stdout",
     "output_type": "stream",
     "text": [
      "Mean of each column: [48.66666667 53.66666667 50.66666667 49.33333333 54.33333333 52.33333333\n",
      " 47.33333333 59.66666667]\n"
     ]
    }
   ],
   "source": [
    "# Your implementation:\n",
    "print(\"Mean of each column:\", my_2d_array.mean(axis=0))\n"
   ]
  },
  {
   "cell_type": "markdown",
   "metadata": {},
   "source": [
    "**Action:** Calculate the mean for each row in `my_2d_array`."
   ]
  },
  {
   "cell_type": "code",
   "execution_count": 33,
   "metadata": {},
   "outputs": [
    {
     "name": "stdout",
     "output_type": "stream",
     "text": [
      "Mean of each row: [50.25 50.25 55.5 ]\n"
     ]
    }
   ],
   "source": [
    "# Your implementation:\n",
    "print(\"Mean of each row:\", my_2d_array.mean(axis=1))\n"
   ]
  },
  {
   "cell_type": "markdown",
   "metadata": {},
   "source": [
    "### Median\n",
    "\n",
    "**Action:** Calculate the median for all items in `my_2d_array`."
   ]
  },
  {
   "cell_type": "code",
   "execution_count": 34,
   "metadata": {},
   "outputs": [
    {
     "name": "stdout",
     "output_type": "stream",
     "text": [
      "Median of all items: 51.0\n"
     ]
    }
   ],
   "source": [
    "# Your implementation:\n",
    "print(\"Median of all items:\", np.median(my_2d_array))\n",
    "\n"
   ]
  },
  {
   "cell_type": "markdown",
   "metadata": {},
   "source": [
    "**Action:** Calculate the median for each column in `my_2d_array`."
   ]
  },
  {
   "cell_type": "code",
   "execution_count": 35,
   "metadata": {},
   "outputs": [
    {
     "name": "stdout",
     "output_type": "stream",
     "text": [
      "Median of each column: [48. 55. 51. 50. 53. 51. 45. 55.]\n"
     ]
    }
   ],
   "source": [
    "# Your implementation:\n",
    "print(\"Median of each column:\", np.median(my_2d_array, axis=0))\n"
   ]
  },
  {
   "cell_type": "markdown",
   "metadata": {},
   "source": [
    "**Action:** Calculate the median for each row in `my_2d_array`."
   ]
  },
  {
   "cell_type": "code",
   "execution_count": 36,
   "metadata": {},
   "outputs": [
    {
     "name": "stdout",
     "output_type": "stream",
     "text": [
      "Median of each row: [51.  49.5 52. ]\n"
     ]
    }
   ],
   "source": [
    "# Your implementation:\n",
    "print(\"Median of each row:\", np.median(my_2d_array, axis=1))"
   ]
  },
  {
   "cell_type": "markdown",
   "metadata": {},
   "source": [
    "### Standard Deviation\n",
    "\n",
    "**Action:** Calculate the standard deviation for all the items in `my_2d_array`."
   ]
  },
  {
   "cell_type": "code",
   "execution_count": 37,
   "metadata": {},
   "outputs": [
    {
     "name": "stdout",
     "output_type": "stream",
     "text": [
      "Standard deviation of all items: 6.59545297913646\n"
     ]
    }
   ],
   "source": [
    "# Your implementation:\n",
    "print(\"Standard deviation of all items:\", my_2d_array.std())\n"
   ]
  },
  {
   "cell_type": "markdown",
   "metadata": {},
   "source": [
    "**Action:** Calculate the standard deviation for each column in `my_2d_array`."
   ]
  },
  {
   "cell_type": "code",
   "execution_count": 38,
   "metadata": {},
   "outputs": [
    {
     "name": "stdout",
     "output_type": "stream",
     "text": [
      "Standard deviation of each column: [ 0.94280904  2.62466929  1.24721913  2.49443826  2.62466929  4.98887652\n",
      "  5.55777733 12.68419839]\n"
     ]
    }
   ],
   "source": [
    "# Your implementation:\n",
    "print(\"Standard deviation of each column:\", my_2d_array.std(axis=0))\n"
   ]
  },
  {
   "cell_type": "markdown",
   "metadata": {},
   "source": [
    "**Action:** Calculate the standard deviation for each row in `my_2d_array`."
   ]
  },
  {
   "cell_type": "code",
   "execution_count": 39,
   "metadata": {},
   "outputs": [
    {
     "name": "stdout",
     "output_type": "stream",
     "text": [
      "Standard deviation of each row: [4.17582327 4.40879802 8.67467579]\n"
     ]
    }
   ],
   "source": [
    "# Your implementation:\n",
    "print(\"Standard deviation of each row:\", my_2d_array.std(axis=1))\n"
   ]
  },
  {
   "cell_type": "markdown",
   "metadata": {},
   "source": [
    "## Part H - Creating Arrays with Placeholder Data\n",
    "\n",
    "**Action:** Create a 2-dimensionary array that has 4 rows and 5 columns, with all values as 0.  Then print the array."
   ]
  },
  {
   "cell_type": "code",
   "execution_count": 41,
   "metadata": {},
   "outputs": [
    {
     "name": "stdout",
     "output_type": "stream",
     "text": [
      "Array with zeros:\n",
      " [[0. 0. 0. 0. 0.]\n",
      " [0. 0. 0. 0. 0.]\n",
      " [0. 0. 0. 0. 0.]\n",
      " [0. 0. 0. 0. 0.]]\n"
     ]
    }
   ],
   "source": [
    "# Your implementation:\n",
    "\n",
    "zeros_array = np.zeros((4, 5))\n",
    "print(\"Array with zeros:\\n\", zeros_array)\n"
   ]
  },
  {
   "cell_type": "markdown",
   "metadata": {},
   "source": [
    "**Action:** Create a 2-dimensionary array that has 5 rows and 3 columns, filled with **ones (1s)** by using the `ones` function.  Then print the array."
   ]
  },
  {
   "cell_type": "code",
   "execution_count": 42,
   "metadata": {},
   "outputs": [
    {
     "name": "stdout",
     "output_type": "stream",
     "text": [
      "Array with ones:\n",
      " [[1. 1. 1.]\n",
      " [1. 1. 1.]\n",
      " [1. 1. 1.]\n",
      " [1. 1. 1.]\n",
      " [1. 1. 1.]]\n"
     ]
    }
   ],
   "source": [
    "# Your implementation:\n",
    "ones_array = np.ones((5, 3))\n",
    "print(\"Array with ones:\\n\", ones_array)\n",
    "\n"
   ]
  },
  {
   "cell_type": "markdown",
   "metadata": {},
   "source": [
    "**Action:** Create a 2-dimensional array that has 5 rows and 3 columns, with all values as 1 (but make sure they are constrained to integers - you can use np.int64 or int).  Then print the array."
   ]
  },
  {
   "cell_type": "code",
   "execution_count": 43,
   "metadata": {},
   "outputs": [
    {
     "name": "stdout",
     "output_type": "stream",
     "text": [
      "Array with all values as 1:\n",
      " [[1 1 1]\n",
      " [1 1 1]\n",
      " [1 1 1]\n",
      " [1 1 1]\n",
      " [1 1 1]]\n"
     ]
    }
   ],
   "source": [
    "# Your implementation:\n",
    "int_array = np.full((5, 3), 1, dtype=int)\n",
    "print(\"Array with all values as 1:\\n\", int_array)\n"
   ]
  },
  {
   "cell_type": "markdown",
   "metadata": {},
   "source": [
    "**Action:** Create a 2-dimensional array that has 4 rows and 4 columns, with all values as 25 (constrained as integers).  Then print the array."
   ]
  },
  {
   "cell_type": "code",
   "execution_count": 44,
   "metadata": {},
   "outputs": [
    {
     "name": "stdout",
     "output_type": "stream",
     "text": [
      "Array with all values as 25:\n",
      " [[25 25 25 25]\n",
      " [25 25 25 25]\n",
      " [25 25 25 25]\n",
      " [25 25 25 25]]\n"
     ]
    }
   ],
   "source": [
    "# Your implementation:\n",
    "\n",
    "twenty_five_array = np.full((4, 4), 25, dtype=int)\n",
    "print(\"Array with all values as 25:\\n\", twenty_five_array)\n"
   ]
  },
  {
   "cell_type": "markdown",
   "metadata": {},
   "source": [
    "**Action:** Create a 2-dimensional array that has 3 rows and 5 columns, with each value being a random float from 0 to 1.  Then print the array."
   ]
  },
  {
   "cell_type": "code",
   "execution_count": 45,
   "metadata": {},
   "outputs": [
    {
     "name": "stdout",
     "output_type": "stream",
     "text": [
      "Array with random floats from 0 to 1:\n",
      " [[0.32624231 0.59007696 0.24137227 0.66292279 0.57935184]\n",
      " [0.7273332  0.97883542 0.88911639 0.73262604 0.16397431]\n",
      " [0.06690072 0.28224859 0.24661289 0.27789156 0.28047484]]\n"
     ]
    }
   ],
   "source": [
    "# Your implementation:\n",
    "random_array = np.random.rand(3, 5)\n",
    "print(\"Array with random floats from 0 to 1:\\n\", random_array)\n"
   ]
  },
  {
   "cell_type": "code",
   "execution_count": null,
   "metadata": {},
   "outputs": [],
   "source": [
    "# Thank You"
   ]
  }
 ],
 "metadata": {
  "kernelspec": {
   "display_name": "Python 3 (ipykernel)",
   "language": "python",
   "name": "python3"
  },
  "language_info": {
   "codemirror_mode": {
    "name": "ipython",
    "version": 3
   },
   "file_extension": ".py",
   "mimetype": "text/x-python",
   "name": "python",
   "nbconvert_exporter": "python",
   "pygments_lexer": "ipython3",
   "version": "3.11.5"
  },
  "nbclean": true
 },
 "nbformat": 4,
 "nbformat_minor": 1
}
