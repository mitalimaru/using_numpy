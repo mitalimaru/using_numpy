{
 "cells": [
  {
   "cell_type": "code",
   "execution_count": 1,
   "id": "847a331c",
   "metadata": {},
   "outputs": [],
   "source": [
    "import numpy as np\n",
    "import matplotlib.pyplot as plt\n",
    "from scipy.stats import uniform, norm, expon\n",
    "import statsmodels.api as sm"
   ]
  },
  {
   "cell_type": "code",
   "execution_count": 5,
   "id": "26f6ad04",
   "metadata": {},
   "outputs": [
    {
     "data": {
      "image/png": "[encoded data removed]",
      "text/plain": [
       "<Figure size 432x288 with 1 Axes>"
      ]
     },
     "metadata": {
      "needs_background": "light"
     },
     "output_type": "display_data"
    }
   ],
   "source": [
    "num_trials = 100\n",
    "\n",
    "xModel = uniform.rvs(size = num_trials, loc = 1, scale = 50)\n",
    "eModel = norm.rvs(size = num_trials, loc = 0, scale = 50)\n",
    "\n",
    "slope = 2\n",
    "intercept = 20\n",
    "\n",
    "yModel = intercept + slope * xModel + eModel\n",
    "\n",
    "plt.scatter(x = xModel, y = yModel, s = 10)\n",
    "plt.show()"
   ]
  },
  {
   "cell_type": "code",
   "execution_count": 6,
   "id": "77fc4e55",
   "metadata": {},
   "outputs": [
    {
     "name": "stdout",
     "output_type": "stream",
     "text": [
      "                            OLS Regression Results                            \n",
      "==============================================================================\n",
      "Dep. Variable:                      y   R-squared:                       0.241\n",
      "Model:                            OLS   Adj. R-squared:                  0.233\n",
      "Method:                 Least Squares   F-statistic:                     31.13\n",
      "Date:                Wed, 16 Feb 2022   Prob (F-statistic):           2.14e-07\n",
      "Time:                        14:28:13   Log-Likelihood:                -531.86\n",
      "No. Observations:                 100   AIC:                             1068.\n",
      "Df Residuals:                      98   BIC:                             1073.\n",
      "Df Model:                           1                                         \n",
      "Covariance Type:            nonrobust                                         \n",
      "==============================================================================\n",
      "                 coef    std err          t      P>|t|      [0.025      0.975]\n",
      "------------------------------------------------------------------------------\n",
      "const         15.7305     10.547      1.491      0.139      -5.199      36.660\n",
      "x1             2.0902      0.375      5.580      0.000       1.347       2.834\n",
      "==============================================================================\n",
      "Omnibus:                        0.835   Durbin-Watson:                   1.919\n",
      "Prob(Omnibus):                  0.659   Jarque-Bera (JB):                0.953\n",
      "Skew:                           0.178   Prob(JB):                        0.621\n",
      "Kurtosis:                       2.680   Cond. No.                         59.6\n",
      "==============================================================================\n",
      "\n",
      "Notes:\n",
      "[1] Standard Errors assume that the covariance matrix of the errors is correctly specified.\n"
     ]
    }
   ],
   "source": [
    "xModel_int = sm.add_constant(xModel)\n",
    "lm = sm.OLS(yModel, xModel_int).fit()\n",
    "print(lm.summary())"
   ]
  },
  {
   "cell_type": "code",
   "execution_count": 7,
   "id": "409eb282",
   "metadata": {},
   "outputs": [
    {
     "data": {
      "image/png": "[encoded data removed]",
      "text/plain": [
       "<Figure size 432x288 with 1 Axes>"
      ]
     },
     "metadata": {
      "needs_background": "light"
     },
     "output_type": "display_data"
    }
   ],
   "source": [
    "plt.scatter(x = xModel, y = yModel, s = 10)\n",
    "\n",
    "slope_Model = lm.params[1]\n",
    "intercept_Model = lm.params[0]\n",
    "\n",
    "yEst = intercept_Model + slope_Model * xModel\n",
    "plt.plot(xModel, yEst)\n",
    "\n",
    "plt.show()"
   ]
  },
  {
   "cell_type": "code",
   "execution_count": null,
   "id": "466c9e54",
   "metadata": {},
   "outputs": [],
   "source": []
  }
 ],
 "metadata": {
  "kernelspec": {
   "display_name": "Python 3 (ipykernel)",
   "language": "python",
   "name": "python3"
  },
  "language_info": {
   "codemirror_mode": {
    "name": "ipython",
    "version": 3
   },
   "file_extension": ".py",
   "mimetype": "text/x-python",
   "name": "python",
   "nbconvert_exporter": "python",
   "pygments_lexer": "ipython3",
   "version": "3.11.5"
  }
 },
 "nbformat": 4,
 "nbformat_minor": 5
}
